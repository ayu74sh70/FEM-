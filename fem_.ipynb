{
  "nbformat": 4,
  "nbformat_minor": 0,
  "metadata": {
    "colab": {
      "provenance": []
    },
    "kernelspec": {
      "name": "python3",
      "display_name": "Python 3"
    },
    "language_info": {
      "name": "python"
    }
  },
  "cells": [
    {
      "cell_type": "markdown",
      "metadata": {
        "id": "b50ed214"
      },
      "source": [
        "#1 Explain the difference between interpreted and compiled languages."
      ]
    },
    {
      "cell_type": "markdown",
      "metadata": {
        "id": "2a43b886"
      },
      "source": [
        "\n",
        "\n",
        "\n",
        "**Answer:**\n",
        "\n",
        "**Interpreted Languages:**\n",
        "*   Code is executed line by line by an interpreter.\n",
        "*   Translation to machine code happens at runtime.\n",
        "*   Easier to debug and modify.\n",
        "*   Generally slower execution speed.\n",
        "*   Examples: Python, JavaScript, Ruby.\n",
        "\n",
        "**Compiled Languages:**\n",
        "*   Code is translated into machine code before execution by a compiler.\n",
        "*   The entire program is translated at once.\n",
        "*   Harder to debug and modify.\n",
        "*   Generally faster execution speed.\n",
        "*   Examples: C, C++, Java."
      ]
    },
    {
      "cell_type": "markdown",
      "metadata": {
        "id": "a6017a34"
      },
      "source": [
        "#2 Explain what exception handling is in Python.\n",
        "\n",
        "**Answer:**\n",
        "\n",
        "Exception handling in Python is a mechanism used to manage and respond to errors or unexpected events that occur during the execution of a program. These events, called exceptions, disrupt the normal flow of the program. Exception handling allows you to gracefully deal with these errors, preventing the program from crashing and providing a more robust and user-friendly experience. It involves using `try`, `except`, `else`, and `finally` blocks to catch and handle specific types of errors."
      ]
    },
    {
      "cell_type": "markdown",
      "metadata": {
        "id": "aaf767e9"
      },
      "source": [
        "#3 What is the purpose of the finally block in exception handling?\n",
        "\n",
        "**Answer:**\n",
        "\n",
        "The `finally` block in Python's exception handling is used to define a block of code that will be executed regardless of whether an exception occurred or not. This is particularly useful for performing cleanup actions, such as closing files, releasing resources, or ensuring that certain operations are always completed, even if errors arise during the execution of the `try` or `except` blocks."
      ]
    },
    {
      "cell_type": "markdown",
      "metadata": {
        "id": "a17cb87d"
      },
      "source": [
        "#4 What is logging in Python?\n",
        "\n",
        "**Answer:**\n",
        "\n",
        "Logging in Python is a way to record events that happen while a program is running. It's a powerful tool for debugging, monitoring, and understanding the flow of your application. Instead of using print statements, which are often removed in production code, logging allows you to create messages with different severity levels (like debug, info, warning, error, critical) that can be directed to various outputs, such as the console, files, or even network sockets. This makes it much easier to track down issues and understand what your program is doing, especially in complex or long-running applications."
      ]
    },
    {
      "cell_type": "markdown",
      "metadata": {
        "id": "7b27f345"
      },
      "source": [
        "# 5 What is the significance of the __del __ method in Python?\n",
        "\n",
        "**Answer:**\n",
        "\n",
        "The `__del__` method, also known as the destructor, is a special method in Python classes. It's called when an object is about to be garbage collected. While it might seem useful for cleanup tasks, its use is generally discouraged because Python's garbage collector determines when an object is no longer referenced and can be deleted. The timing of `__del__` calls is not guaranteed, making it unreliable for critical cleanup operations. It's better to use context managers (`with` statement) or explicit cleanup methods when resources need to be released."
      ]
    },
    {
      "cell_type": "markdown",
      "metadata": {
        "id": "c23239a3"
      },
      "source": [
        "#6 What is the difference between import and from ….. import in Python?\n",
        "\n",
        "**Answer:**\n",
        "\n",
        "*   **`import module_name`**: This imports the entire module. You need to use the module name followed by a dot to access its functions, classes, or variables (e.g., `math.sqrt(16)`).\n",
        "*   **`from module_name import object_name`**: This imports only a specific object (function, class, variable) from the module. You can then use the object directly without the module name prefix (e.g., `sqrt(16)` after `from math import sqrt`). This can make code more concise but can also lead to naming conflicts if you import objects with the same name from different modules."
      ]
    },
    {
      "cell_type": "markdown",
      "metadata": {
        "id": "f5761533"
      },
      "source": [
        "# 7 How can you handle multiple exceptions in Python?\n",
        "\n",
        "**Answer:**\n",
        "\n",
        "You can handle multiple exceptions in Python using several `except` blocks after a `try` block. Each `except` block can specify a different exception type to catch."
      ]
    },
    {
      "cell_type": "markdown",
      "metadata": {
        "id": "b68ea805"
      },
      "source": [
        "# 8 What is the purpose of the with statement when handling files in Python?\n",
        "\n",
        "**Answer:**\n",
        "\n",
        "The `with` statement in Python is used for resource management, particularly with file handling. Its main purpose is to ensure that a resource (like a file) is properly closed or released after the code block is executed, even if errors occur. It simplifies the process by automatically handling the setup and teardown operations. When you open a file with `with open(...)`, the file is automatically closed when the `with` block is exited, regardless of whether an exception was raised or not. This prevents resource leaks and makes the code cleaner and safer."
      ]
    },
    {
      "cell_type": "markdown",
      "metadata": {
        "id": "a56010b5"
      },
      "source": [
        "#9 What is the difference between multithreading and multiprocessing?\n",
        "\n",
        "**Answer:**\n",
        "\n",
        "Both multithreading and multiprocessing are techniques for achieving concurrency, allowing a program to perform multiple tasks seemingly at the same time. However, they differ in how they achieve this:\n",
        "\n",
        "*   **Multithreading:** Uses multiple threads within a single process. Threads share the same memory space. This is good for I/O-bound tasks (like reading from a file or network) where the program spends time waiting, as threads can switch while one is waiting. However, due to the Global Interpreter Lock (GIL) in CPython, multithreading doesn't achieve true parallelism for CPU-bound tasks (tasks that heavily use the CPU).\n",
        "*   **Multiprocessing:** Uses multiple separate processes. Each process has its own memory space. This is suitable for CPU-bound tasks, as it bypasses the GIL and allows for true parallel execution on multiple CPU cores. However, communication between processes is more complex than communication between threads, and creating processes has more overhead than creating threads."
      ]
    },
    {
      "cell_type": "markdown",
      "metadata": {
        "id": "496903de"
      },
      "source": [
        "#10 What are the advantages of using logging in a program?\n",
        "\n",
        "**Answer:**\n",
        "\n",
        "Using logging in a program offers several advantages:\n",
        "\n",
        "*   **Debugging:** Provides detailed information about the program's execution flow, variable values, and errors, making it easier to identify and fix bugs.\n",
        "*   **Monitoring:** Allows you to track the program's behavior in production environments, identify performance issues, and detect anomalies.\n",
        "*   **Auditing:** Can record significant events, providing a history of what the program did.\n",
        "*   **Separation of Concerns:** Keeps debugging and monitoring logic separate from the main program logic.\n",
        "*   **Flexibility:** Allows you to control the level of detail logged and where the logs are sent (console, file, network, etc.).\n",
        "*   **Post-mortem analysis:** Log files can be analyzed after an error or crash to understand the cause."
      ]
    },
    {
      "cell_type": "markdown",
      "metadata": {
        "id": "d4c7d742"
      },
      "source": [
        "#11 What is memory management in Python?\n",
        "\n",
        "**Answer:**\n",
        "\n",
        "Memory management in Python refers to the process by which Python allocates and deallocates memory for objects during the program's execution. Python has a private heap containing all Python objects and data structures. The Python memory manager controls the allocation of heap space. The core components of Python's memory management are:\n",
        "\n",
        "*   **Reference Counting:** A simple technique where each object keeps a count of the number of references pointing to it. When the reference count drops to zero, the object's memory can be reclaimed.\n",
        "*   **Garbage Collection:** Python has a cyclic garbage collector that can detect and reclaim memory occupied by objects that have circular references (where objects refer to each other, but are no longer accessible from the rest of the program), which reference counting alone cannot handle.\n",
        "*   **Memory Pools:** Python uses memory pools for small objects to reduce the overhead of frequent memory allocation and deallocation."
      ]
    },
    {
      "cell_type": "markdown",
      "metadata": {
        "id": "5fbd211a"
      },
      "source": [
        "#12 What are the basic steps involved in exception handling in Python?\n",
        "\n",
        "**Answer:**\n",
        "\n",
        "The basic steps involved in exception handling in Python using `try`, `except`, `else`, and `finally` blocks are:\n",
        "\n",
        "1.  **`try` block:** Enclose the code that might raise an exception within the `try` block.\n",
        "2.  **`except` block(s):** Specify how to handle specific types of exceptions that might occur in the `try` block. You can have multiple `except` blocks for different exception types.\n",
        "3.  **`else` block (optional):** The code in the `else` block is executed if no exception occurs in the `try` block.\n",
        "4.  **`finally` block (optional):** The code in the `finally` block is always executed, regardless of whether an exception occurred or was handled. It's typically used for cleanup actions."
      ]
    },
    {
      "cell_type": "markdown",
      "metadata": {
        "id": "37726267"
      },
      "source": [
        "#13 Why is memory management important in Python?\n",
        "\n",
        "**Answer:**\n",
        "\n",
        "Memory management is crucial in Python for several reasons:\n",
        "\n",
        "*   **Efficiency:** Efficient memory management ensures that memory is allocated and deallocated effectively, preventing unnecessary memory consumption and improving program performance.\n",
        "*   **Stability:** Proper memory management helps prevent issues like memory leaks (where memory is allocated but never released, leading to increased memory usage over time and potential program crashes) and segmentation faults.\n",
        "*   **Resource Utilization:** It ensures that memory resources are used optimally, which is particularly important for applications with limited memory or those processing large amounts of data.\n",
        "*   **Simplifies Development:** For the most part, Python's automatic memory management (garbage collection) simplifies development by freeing programmers from the burden of manual memory allocation and deallocation, reducing the likelihood of memory-related errors."
      ]
    },
    {
      "cell_type": "markdown",
      "metadata": {
        "id": "1e12dfa1"
      },
      "source": [
        "## 14 What is the role of try and except in exception handling?\n",
        "\n",
        "**Answer:**\n",
        "\n",
        "In Python's exception handling:\n",
        "\n",
        "*   **`try`:** The `try` block is where you put the code that you suspect might raise an exception. Python attempts to execute the code within the `try` block.\n",
        "*   **`except`:** The `except` block is where you define how to handle a specific exception (or a set of exceptions) that might occur in the `try` block. If an exception of the specified type occurs in the `try` block, the code within the corresponding `except` block is executed. This allows you to gracefully recover from errors, display informative messages, or take alternative actions instead of letting the program crash."
      ]
    },
    {
      "cell_type": "markdown",
      "metadata": {
        "id": "c2e3a021"
      },
      "source": [
        "# 15How does Python's garbage collection system work?\n",
        "\n",
        "**Answer:**\n",
        "\n",
        "Python's garbage collection system primarily uses two mechanisms:\n",
        "\n",
        "1.  **Reference Counting:** This is the primary mechanism. Each object has a reference count that tracks how many variables or objects are referring to it. When the reference count of an object drops to zero, it means the object is no longer accessible, and the memory it occupies can be immediately reclaimed.\n",
        "2.  **Generational Cyclic Garbage Collector:** Reference counting cannot handle circular references (where objects refer to each other, creating a cycle, even if they are no longer accessible from outside the cycle). Python's generational cyclic garbage collector is designed to detect and collect these cycles. It divides objects into generations based on their age and periodically runs a tracing algorithm to identify and collect unreachable objects involved in cycles. Newer objects are in younger generations and are checked more frequently than older objects."
      ]
    },
    {
      "cell_type": "markdown",
      "metadata": {
        "id": "18faa134"
      },
      "source": [
        "#16 What is the purpose of the else block in exception handling?\n",
        "\n",
        "**Answer:**\n",
        "\n",
        "The `else` block in Python's exception handling is optional and is placed after the `except` blocks. The code within the `else` block is executed *only if* the code in the `try` block completes without raising any exceptions. This is useful for putting code that should only run when the `try` block was successful, separating it from the code that handles potential errors."
      ]
    },
    {
      "cell_type": "markdown",
      "metadata": {
        "id": "2ff5c658"
      },
      "source": [
        "#17 What are the common logging levels in Python?\n",
        "\n",
        "**Answer:**\n",
        "\n",
        "The common logging levels in Python, in increasing order of severity, are:\n",
        "\n",
        "*   **DEBUG:** Detailed information, typically used for debugging purposes.\n",
        "*   **INFO:** Confirmation that things are working as expected.\n",
        "*   **WARNING:** An indication that something unexpected happened or might happen in the near future (e.g., 'disk space low'). The software is still working as expected.\n",
        "*   **ERROR:** Due to a more serious problem, the software has not been able to perform some function.\n",
        "*   **CRITICAL:** A serious error, indicating that the program itself may be unable to continue running."
      ]
    },
    {
      "cell_type": "markdown",
      "metadata": {
        "id": "c5bd4b6f"
      },
      "source": [
        "#18 What is the difference between os.fork() and multiprocessing in Python?\n",
        "\n",
        "**Answer:**\n",
        "\n",
        "*   **`os.fork()`:** This is a lower-level system call that creates a new process by duplicating the calling process. The new process (child) is an exact copy of the parent process. `os.fork()` is available on Unix-like systems but not on Windows. It requires manual management of processes and inter-process communication.\n",
        "*   **`multiprocessing` module:** This is a higher-level, cross-platform module in Python that provides an API for creating and managing processes. It abstracts away the complexities of using `os.fork()` directly and provides features like process pools, queues, and pipes for easier inter-process communication. It's the recommended way to achieve multiprocessing in Python for most use cases."
      ]
    },
    {
      "cell_type": "markdown",
      "metadata": {
        "id": "45c36f28"
      },
      "source": [
        "# 19 What is the importance of closing a file in Python?\n",
        "\n",
        "**Answer:**\n",
        "\n",
        "It is important to close a file in Python after you have finished working with it for several reasons:\n",
        "\n",
        "*   **Resource Management:** Files are external resources. Leaving them open can consume system resources and potentially lead to issues like running out of file handles.\n",
        "*   **Data Integrity:** When you write to a file, the data might be buffered in memory and not immediately written to the disk. Closing the file flushes the buffer, ensuring that all data is written to the file.\n",
        "*   **Preventing Data Corruption:** If a program crashes or is unexpectedly terminated while a file is open, the file might become corrupted. Closing the file properly reduces this risk.\n",
        "*   **Releasing Locks:** Opening a file might place a lock on it, preventing other processes from accessing or modifying it. Closing the file releases the lock.\n",
        "*   **Using the `with` statement** is the recommended way to ensure files are automatically closed, even if errors occur."
      ]
    },
    {
      "cell_type": "markdown",
      "metadata": {
        "id": "f473bb7a"
      },
      "source": [
        "## Answer question 20\n",
        "\n",
        "### Subtask:\n",
        "What is the difference between file.read() and file.readline() in Python?\n",
        "\n",
        "**Answer:**\n",
        "\n",
        "Both `file.read()` and `file.readline()` are methods used to read data from a file object in Python:\n",
        "\n",
        "*   **`file.read(size)`:** Reads the entire content of the file as a single string if `size` is not specified. If `size` is provided, it reads at most `size` bytes from the file.\n",
        "*   **`file.readline(size)`:** Reads a single line from the file, including the newline character at the end (if present). If `size` is specified, it reads at most `size` bytes from the line. Subsequent calls to `readline()` will read the next line."
      ]
    },
    {
      "cell_type": "markdown",
      "metadata": {
        "id": "51299104"
      },
      "source": [
        "#21 What is the logging module in Python used for?\n",
        "\n",
        "**Answer:**\n",
        "\n",
        "The `logging` module in Python is a standard library module that provides a flexible and powerful framework for emitting log messages from applications. It is used to:\n",
        "\n",
        "*   Record events that happen during the program's execution.\n",
        "*   Provide information for debugging, monitoring, and analysis.\n",
        "*   Control the severity level of messages that are recorded.\n",
        "*   Direct log messages to various destinations (console, files, network, etc.).\n",
        "*   Format log messages with timestamps, severity levels, and other relevant information."
      ]
    },
    {
      "cell_type": "markdown",
      "metadata": {
        "id": "9a1ec36c"
      },
      "source": [
        "#22 What is the os module in Python used for in file handling?\n",
        "\n",
        "**Answer:**\n",
        "\n",
        "The `os` module in Python provides a way to interact with the operating system. In the context of file handling, the `os` module is used for various operations related to the file system, such as:\n",
        "\n",
        "*   **Getting and changing the current working directory (`os.getcwd()`, `os.chdir()`)**\n",
        "*   **Listing directory contents (`os.listdir()`)**\n",
        "*   **Creating and deleting directories (`os.mkdir()`, `os.rmdir()`, `os.makedirs()`, `os.removedirs()`)**\n",
        "*   **Renaming and removing files (`os.rename()`, `os.remove()`)**\n",
        "*   **Checking file and directory existence (`os.path.exists()`)**\n",
        "*   **Getting file metadata (size, modification time, etc. using `os.stat()`)**\n",
        "*   **Joining path components (`os.path.join()`)**\n",
        "*   **Splitting path components (`os.path.split()`)**\n",
        "*   **Checking if a path is a file or directory (`os.path.isfile()`, `os.path.isdir()`)**"
      ]
    },
    {
      "cell_type": "markdown",
      "metadata": {
        "id": "4503b1e9"
      },
      "source": [
        "#23 What are the challenges associated with memory management in Python?\n",
        "\n",
        "**Answer:**\n",
        "\n",
        "While Python's automatic memory management simplifies development, there are still some challenges:\n",
        "\n",
        "*   **Memory Leaks:** Although less common than in languages with manual memory management, memory leaks can still occur, particularly with circular references that the garbage collector might not immediately detect or with external resources not properly released.\n",
        "*   **Performance Overhead:** The garbage collection process, especially the cyclic garbage collector, can introduce some performance overhead, as it consumes CPU cycles to identify and reclaim memory.\n",
        "*   **Unpredictable Timing of `__del__`:** As mentioned earlier, the timing of the `__del__` method call is not guaranteed, making it unreliable for critical resource cleanup.\n",
        "*   **Understanding Memory Usage:** It can sometimes be challenging to understand and profile the memory usage of Python programs, especially in complex applications with many objects and interdependencies."
      ]
    },
    {
      "cell_type": "markdown",
      "metadata": {
        "id": "96dad1cd"
      },
      "source": [
        " # 24 How do you raise an exception manually in Python?\n",
        "\n",
        "**Answer:**\n",
        "\n",
        "You can raise an exception manually in Python using the `raise` statement. You can raise an existing exception type or define and raise your own custom exception."
      ]
    },
    {
      "cell_type": "markdown",
      "metadata": {
        "id": "82642ee2"
      },
      "source": [
        "#25 Why is it important to use multithreading in certain applications?\n",
        "\n",
        "**Answer:**\n",
        "\n",
        "Multithreading is important in certain applications, particularly those that are I/O-bound, because it allows the program to remain responsive and productive while waiting for external operations to complete. Here's why:\n",
        "\n",
        "*   **Responsiveness:** In applications with user interfaces, multithreading can prevent the UI from freezing while the program is performing a long-running task (like downloading data or reading a large file). A separate thread can handle the task, allowing the main thread to continue responding to user interactions.\n",
        "*   **Improved Throughput (for I/O-bound tasks):** When a thread is waiting for an I/O operation to finish, the Python interpreter can switch to another thread that is ready to execute. This allows the program to make progress on other tasks instead of being idle.\n",
        "*   **Simplified Design for Concurrent Tasks:** For tasks that naturally involve waiting (like network communication or database operations), using threads can simplify the program's design compared to using a single-threaded approach with complex asynchronous programming.\n",
        "\n",
        "However, it's important to remember that due to the GIL, multithreading is generally not suitable for CPU-bound tasks that require true parallelism on multiple cores. For such tasks, multiprocessing is a better choice."
      ]
    },
    {
      "cell_type": "markdown",
      "source": [
        "## Practical question"
      ],
      "metadata": {
        "id": "CclPk8FMYxnM"
      }
    },
    {
      "cell_type": "markdown",
      "source": [
        "1. How can you open a file for writing in Python and write a string to it?\n",
        "2. Write a Python program to read the contents of a file and print each line.\n",
        "3. How would you handle a case where the file doesn't exist while trying to open it for reading?\n",
        "4. Write a Python script that reads from one file and writes its content to another file.\n",
        "5. How would you catch and handle division by zero error in Python?\n",
        "6. Write a Python program that logs an error message to a log file when a division by zero exception occurs.\n",
        "7. How do you log information at different levels (INFO, ERROR, WARNING) in Python using the logging module?\n",
        "8. Write a program to handle a file opening error using exception handling.\n",
        "9. How can you read a file line by line and store its content in a list in Python?\n",
        "10. How can you append data to an existing file in Python?\n",
        "11. Write a Python program that uses a try-except block to handle an error when attempting to access a dictionary key that doesn't exist.\n",
        "12. Write a program that demonstrates using multiple except blocks to handle different types of exceptions.\n",
        "13. How would you check if a file exists before attempting to read it in Python?\n",
        "14. Write a program that uses the logging module to log both informational and error messages.\n",
        "15. Write a Python program that prints the content of a file and handles the case when the file is empty.\n",
        "16. Demonstrate how to use memory profiling to check the memory usage of a small program.\n",
        "17. Write a Python program to create and write a list of numbers to a file, one number per line.\n",
        "18. How would you implement a basic logging setup that logs to a file with rotation after IMB?\n",
        "19. Write a program that handles both IndexError and KeyError using a try-except block.\n",
        "20. How would you open a file and read its contents using a context manager in Python?\n",
        "21. Write a Python program that reads a file and prints the number of occurrences of a specific word.\n",
        "22. How can you check if a file is empty before attempting to read its contents?\n",
        "23. Write a Python program that writes to a log file when an error occurs during file handling."
      ],
      "metadata": {
        "id": "Uk55fNowY1i1"
      }
    },
    {
      "cell_type": "markdown",
      "metadata": {
        "id": "d6128798"
      },
      "source": [
        "## Practical question 1\n",
        "\n",
        "How can you open a file for writing in Python and write a string to it?\n",
        "\n",
        "**Answer:**\n",
        "\n",
        "You can open a file for writing in Python using the `open()` function with the mode `'w'`. This will create a new file if it doesn't exist or overwrite the file if it does exist. You can then use the `write()` method to write a string to the file. It's recommended to use a `with` statement to ensure the file is automatically closed."
      ]
    },
    {
      "cell_type": "code",
      "metadata": {
        "colab": {
          "base_uri": "https://localhost:8080/"
        },
        "id": "6ae13e45",
        "outputId": "4478e3b2-cc70-4864-b679-e90c660ee77a"
      },
      "source": [
        "# Example of opening a file for writing and writing to it\n",
        "file_name = \"my_writing_file.txt\"\n",
        "content_to_write = \"Hello, this is a test.\\nThis is another line.\"\n",
        "\n",
        "with open(file_name, 'w') as file:\n",
        "    file.write(content_to_write)\n",
        "\n",
        "print(f\"Content successfully written to {file_name}\")"
      ],
      "execution_count": 1,
      "outputs": [
        {
          "output_type": "stream",
          "name": "stdout",
          "text": [
            "Content successfully written to my_writing_file.txt\n"
          ]
        }
      ]
    },
    {
      "cell_type": "markdown",
      "metadata": {
        "id": "b84de383"
      },
      "source": [
        "## Practical question 2\n",
        "\n",
        "\n",
        "Write a Python program to read the contents of a file and print each line.\n",
        "\n",
        "**Answer:**\n",
        "\n",
        "You can open a file for reading using the `open()` function with the mode `'r'`. You can then iterate over the file object to read each line and print it. Again, using a `with` statement is recommended."
      ]
    },
    {
      "cell_type": "code",
      "metadata": {
        "colab": {
          "base_uri": "https://localhost:8080/"
        },
        "id": "5fa96bbc",
        "outputId": "fb0a14f2-3003-48ca-fa10-3379f825c854"
      },
      "source": [
        "# Example of reading a file line by line and printing each line\n",
        "file_name_to_read = \"my_writing_file.txt\" # Using the file created in the previous example\n",
        "\n",
        "try:\n",
        "    with open(file_name_to_read, 'r') as file:\n",
        "        for line in file:\n",
        "            print(line.strip()) # Using strip() to remove leading/trailing whitespace, including newline characters\n",
        "except FileNotFoundError:\n",
        "    print(f\"Error: The file '{file_name_to_read}' was not found.\")"
      ],
      "execution_count": 2,
      "outputs": [
        {
          "output_type": "stream",
          "name": "stdout",
          "text": [
            "Hello, this is a test.\n",
            "This is another line.\n"
          ]
        }
      ]
    },
    {
      "cell_type": "markdown",
      "metadata": {
        "id": "fc687b5e"
      },
      "source": [
        "## Practical question 3\n",
        "\n",
        "\n",
        "How would you handle a case where the file doesn't exist while trying to open it for reading?\n",
        "\n",
        "**Answer:**\n",
        "\n",
        "You can handle a `FileNotFoundError` using a `try...except` block. If the file doesn't exist when you try to open it for reading, a `FileNotFoundError` will be raised, which you can catch and handle gracefully."
      ]
    },
    {
      "cell_type": "code",
      "metadata": {
        "colab": {
          "base_uri": "https://localhost:8080/"
        },
        "id": "3d693bbf",
        "outputId": "4b3bcae3-d9d1-42b0-9612-20f116e9e38e"
      },
      "source": [
        "# Example of handling FileNotFoundError\n",
        "file_that_does_not_exist = \"non_existent_file.txt\"\n",
        "\n",
        "try:\n",
        "    with open(file_that_does_not_exist, 'r') as file:\n",
        "        content = file.read()\n",
        "        print(content)\n",
        "except FileNotFoundError:\n",
        "    print(f\"Error: The file '{file_that_does_not_exist}' was not found.\")"
      ],
      "execution_count": 3,
      "outputs": [
        {
          "output_type": "stream",
          "name": "stdout",
          "text": [
            "Error: The file 'non_existent_file.txt' was not found.\n"
          ]
        }
      ]
    },
    {
      "cell_type": "markdown",
      "metadata": {
        "id": "06ff9396"
      },
      "source": [
        "## Practical question 4\n",
        "\n",
        "Write a Python script that reads from one file and writes its content to another file.\n",
        "\n",
        "**Answer:**\n",
        "\n",
        "You can read from one file and write to another by opening both files using `with` statements. Read the content from the source file and then write it to the destination file."
      ]
    },
    {
      "cell_type": "code",
      "metadata": {
        "colab": {
          "base_uri": "https://localhost:8080/"
        },
        "id": "e39c5bb9",
        "outputId": "aaf4395d-dc70-49e6-ef80-3f0964b07447"
      },
      "source": [
        "# Example of reading from one file and writing to another\n",
        "source_file = \"my_writing_file.txt\" # Using the file created earlier\n",
        "destination_file = \"my_copied_file.txt\"\n",
        "\n",
        "try:\n",
        "    with open(source_file, 'r') as infile, open(destination_file, 'w') as outfile:\n",
        "        content = infile.read()\n",
        "        outfile.write(content)\n",
        "    print(f\"Content copied from '{source_file}' to '{destination_file}'\")\n",
        "except FileNotFoundError:\n",
        "    print(f\"Error: The source file '{source_file}' was not found.\")"
      ],
      "execution_count": 4,
      "outputs": [
        {
          "output_type": "stream",
          "name": "stdout",
          "text": [
            "Content copied from 'my_writing_file.txt' to 'my_copied_file.txt'\n"
          ]
        }
      ]
    },
    {
      "cell_type": "markdown",
      "metadata": {
        "id": "bd0e420b"
      },
      "source": [
        "## Practical question 5\n",
        "\n",
        "How would you catch and handle division by zero error in Python?\n",
        "\n",
        "**Answer:**\n",
        "\n",
        "You can catch and handle a division by zero error in Python using a `try...except ZeroDivisionError` block."
      ]
    },
    {
      "cell_type": "code",
      "metadata": {
        "colab": {
          "base_uri": "https://localhost:8080/"
        },
        "id": "66e96666",
        "outputId": "e4e71283-cb84-4e9a-aaa3-eeb1b102ab85"
      },
      "source": [
        "# Example of handling ZeroDivisionError\n",
        "numerator = 10\n",
        "denominator = 0\n",
        "\n",
        "try:\n",
        "    result = numerator / denominator\n",
        "    print(result)\n",
        "except ZeroDivisionError:\n",
        "    print(\"Error: Division by zero is not allowed.\")"
      ],
      "execution_count": 5,
      "outputs": [
        {
          "output_type": "stream",
          "name": "stdout",
          "text": [
            "Error: Division by zero is not allowed.\n"
          ]
        }
      ]
    },
    {
      "cell_type": "markdown",
      "metadata": {
        "id": "dc53b0d0"
      },
      "source": [
        "## Practical question 6\n",
        "\n",
        "Write a Python program that logs an error message to a log file when a division by zero exception occurs.\n",
        "\n",
        "**Answer:**\n",
        "\n",
        "You can use the `logging` module to log an error message to a file when a `ZeroDivisionError` occurs. Configure the logging to write to a file."
      ]
    },
    {
      "cell_type": "code",
      "metadata": {
        "colab": {
          "base_uri": "https://localhost:8080/"
        },
        "id": "0008ac3c",
        "outputId": "15906062-ae60-4c3d-fa53-2477a1c91bbd"
      },
      "source": [
        "# Example of logging a ZeroDivisionError to a file\n",
        "import logging\n",
        "\n",
        "# Configure logging to write to a file\n",
        "logging.basicConfig(filename='app_error.log', level=logging.ERROR, format='%(asctime)s - %(levelname)s - %(message)s')\n",
        "\n",
        "numerator = 10\n",
        "denominator = 0\n",
        "\n",
        "try:\n",
        "    result = numerator / denominator\n",
        "    print(result)\n",
        "except ZeroDivisionError:\n",
        "    logging.error(\"A ZeroDivisionError occurred.\")\n",
        "    print(\"An error occurred and has been logged.\")"
      ],
      "execution_count": 6,
      "outputs": [
        {
          "output_type": "stream",
          "name": "stderr",
          "text": [
            "ERROR:root:A ZeroDivisionError occurred.\n"
          ]
        },
        {
          "output_type": "stream",
          "name": "stdout",
          "text": [
            "An error occurred and has been logged.\n"
          ]
        }
      ]
    },
    {
      "cell_type": "markdown",
      "metadata": {
        "id": "feb5b976"
      },
      "source": [
        "## Practical question 7\n",
        "\n",
        "\n",
        "How do you log information at different levels (INFO, ERROR, WARNING) in Python using the logging module?\n",
        "\n",
        "**Answer:**\n",
        "\n",
        "You can use the respective methods of the logger object (`logging.info()`, `logging.error()`, `logging.warning()`) to log messages at different severity levels."
      ]
    },
    {
      "cell_type": "code",
      "metadata": {
        "colab": {
          "base_uri": "https://localhost:8080/"
        },
        "id": "c228d777",
        "outputId": "2dd0dc8e-f397-4f88-bdcf-3ce8130d6313"
      },
      "source": [
        "# Example of logging at different levels\n",
        "import logging\n",
        "\n",
        "logging.basicConfig(level=logging.INFO, format='%(asctime)s - %(levelname)s - %(message)s')\n",
        "\n",
        "logging.info(\"This is an informational message.\")\n",
        "logging.warning(\"This is a warning message.\")\n",
        "logging.error(\"This is an error message.\")"
      ],
      "execution_count": 7,
      "outputs": [
        {
          "output_type": "stream",
          "name": "stderr",
          "text": [
            "WARNING:root:This is a warning message.\n",
            "ERROR:root:This is an error message.\n"
          ]
        }
      ]
    },
    {
      "cell_type": "markdown",
      "metadata": {
        "id": "bfcc6ede"
      },
      "source": [
        "## Practical question 8\n",
        "\n",
        "Write a program to handle a file opening error using exception handling.\n",
        "\n",
        "**Answer:**\n",
        "\n",
        "You can handle file opening errors using a `try...except FileNotFoundError` block, as demonstrated in Practical Question 3."
      ]
    },
    {
      "cell_type": "code",
      "metadata": {
        "colab": {
          "base_uri": "https://localhost:8080/"
        },
        "id": "cbcbecef",
        "outputId": "a582f692-8a64-4184-a88e-0db490bd9976"
      },
      "source": [
        "# Example of handling a file opening error (FileNotFoundError)\n",
        "invalid_file = \"i_do_not_exist.txt\"\n",
        "\n",
        "try:\n",
        "    with open(invalid_file, 'r') as file:\n",
        "        content = file.read()\n",
        "        print(content)\n",
        "except FileNotFoundError:\n",
        "    print(f\"Error: Could not open the file '{invalid_file}' because it was not found.\")\n",
        "except IOError:\n",
        "    print(f\"Error: An I/O error occurred while trying to open '{invalid_file}'.\")"
      ],
      "execution_count": 8,
      "outputs": [
        {
          "output_type": "stream",
          "name": "stdout",
          "text": [
            "Error: Could not open the file 'i_do_not_exist.txt' because it was not found.\n"
          ]
        }
      ]
    },
    {
      "cell_type": "markdown",
      "metadata": {
        "id": "1f900926"
      },
      "source": [
        "## Practical question 9\n",
        "How can you read a file line by line and store its content in a list in Python?\n",
        "\n",
        "**Answer:**\n",
        "\n",
        "You can read a file line by line and store its content in a list by iterating over the file object and appending each line to a list. Using a `with` statement is recommended."
      ]
    },
    {
      "cell_type": "code",
      "metadata": {
        "colab": {
          "base_uri": "https://localhost:8080/"
        },
        "id": "504f1ce2",
        "outputId": "63ec1d88-5249-4c48-e18f-dd517bb77185"
      },
      "source": [
        "# Example of reading a file line by line and storing in a list\n",
        "file_to_list = \"my_writing_file.txt\" # Using the file created earlier\n",
        "lines_list = []\n",
        "\n",
        "try:\n",
        "    with open(file_to_list, 'r') as file:\n",
        "        for line in file:\n",
        "            lines_list.append(line.strip()) # strip() to remove newline characters\n",
        "\n",
        "    print(\"Content of the file stored in a list:\")\n",
        "    print(lines_list)\n",
        "except FileNotFoundError:\n",
        "    print(f\"Error: The file '{file_to_list}' was not found.\")"
      ],
      "execution_count": 9,
      "outputs": [
        {
          "output_type": "stream",
          "name": "stdout",
          "text": [
            "Content of the file stored in a list:\n",
            "['Hello, this is a test.', 'This is another line.']\n"
          ]
        }
      ]
    },
    {
      "cell_type": "markdown",
      "metadata": {
        "id": "923fe5e5"
      },
      "source": [
        "## Practical question 10\n",
        "\n",
        "How can you append data to an existing file in Python?\n",
        "\n",
        "**Answer:**\n",
        "\n",
        "You can append data to an existing file in Python using the `open()` function with the mode `'a'`. This will open the file for appending, and new data will be written to the end of the file. If the file doesn't exist, it will be created."
      ]
    },
    {
      "cell_type": "code",
      "metadata": {
        "colab": {
          "base_uri": "https://localhost:8080/"
        },
        "id": "1571ed7c",
        "outputId": "e51a83bd-3a8a-45f1-a79b-18d0bfc1cf98"
      },
      "source": [
        "# Example of appending data to a file\n",
        "append_file = \"my_appending_file.txt\"\n",
        "append_content = \"\\nThis line was appended.\"\n",
        "\n",
        "with open(append_file, 'a') as file:\n",
        "    file.write(append_content)\n",
        "\n",
        "print(f\"Content successfully appended to {append_file}\")\n",
        "\n",
        "# Verify the content by reading the file\n",
        "with open(append_file, 'r') as file:\n",
        "    print(f\"\\nContent of {append_file} after appending:\")\n",
        "    print(file.read())"
      ],
      "execution_count": 10,
      "outputs": [
        {
          "output_type": "stream",
          "name": "stdout",
          "text": [
            "Content successfully appended to my_appending_file.txt\n",
            "\n",
            "Content of my_appending_file.txt after appending:\n",
            "\n",
            "This line was appended.\n"
          ]
        }
      ]
    },
    {
      "cell_type": "markdown",
      "metadata": {
        "id": "126ca755"
      },
      "source": [
        "## Practical question 11\n",
        "\n",
        "Write a Python program that uses a try-except block to handle an error when attempting to access a dictionary key that doesn't exist.\n",
        "\n",
        "**Answer:**\n",
        "\n",
        "You can handle a `KeyError` that occurs when trying to access a non-existent dictionary key using a `try...except KeyError` block."
      ]
    },
    {
      "cell_type": "code",
      "metadata": {
        "colab": {
          "base_uri": "https://localhost:8080/"
        },
        "id": "2e50904d",
        "outputId": "f3b973f0-a827-43c1-f1e2-34036399c7dc"
      },
      "source": [
        "# Example of handling KeyError\n",
        "my_dict = {\"name\": \"Alice\", \"age\": 30}\n",
        "\n",
        "try:\n",
        "    city = my_dict[\"city\"]\n",
        "    print(city)\n",
        "except KeyError:\n",
        "    print(\"Error: The key 'city' does not exist in the dictionary.\")"
      ],
      "execution_count": 11,
      "outputs": [
        {
          "output_type": "stream",
          "name": "stdout",
          "text": [
            "Error: The key 'city' does not exist in the dictionary.\n"
          ]
        }
      ]
    },
    {
      "cell_type": "markdown",
      "metadata": {
        "id": "e061a666"
      },
      "source": [
        "## Practical question 12\n",
        "\n",
        "Write a program that demonstrates using multiple except blocks to handle different types of exceptions.\n",
        "\n",
        "**Answer:**\n",
        "\n",
        "You can use multiple `except` blocks after a `try` block to handle different types of exceptions. Python will execute the first `except` block that matches the type of the raised exception."
      ]
    },
    {
      "cell_type": "code",
      "metadata": {
        "colab": {
          "base_uri": "https://localhost:8080/"
        },
        "id": "70f0782f",
        "outputId": "31bfaf57-2310-4088-9555-01996709e744"
      },
      "source": [
        "# Example of using multiple except blocks\n",
        "def divide_and_access(data_list, index, divisor):\n",
        "    try:\n",
        "        result = data_list[index] / divisor\n",
        "        print(f\"Result: {result}\")\n",
        "    except IndexError:\n",
        "        print(\"Error: Invalid index for the list.\")\n",
        "    except ZeroDivisionError:\n",
        "        print(\"Error: Division by zero is not allowed.\")\n",
        "    except TypeError:\n",
        "        print(\"Error: Invalid data type for the operation.\")\n",
        "    except Exception as e:\n",
        "        print(f\"An unexpected error occurred: {e}\")\n",
        "\n",
        "my_list = [1, 2, 3, 4]\n",
        "\n",
        "divide_and_access(my_list, 2, 2)  # Valid operation\n",
        "divide_and_access(my_list, 5, 2)  # IndexError\n",
        "divide_and_access(my_list, 2, 0)  # ZeroDivisionError\n",
        "divide_and_access(my_list, 2, \"hello\") # TypeError"
      ],
      "execution_count": 12,
      "outputs": [
        {
          "output_type": "stream",
          "name": "stdout",
          "text": [
            "Result: 1.5\n",
            "Error: Invalid index for the list.\n",
            "Error: Division by zero is not allowed.\n",
            "Error: Invalid data type for the operation.\n"
          ]
        }
      ]
    },
    {
      "cell_type": "markdown",
      "metadata": {
        "id": "ad5a4ad6"
      },
      "source": [
        "## Practical question 13\n",
        "\n",
        "How would you check if a file exists before attempting to read it in Python?\n",
        "\n",
        "**Answer:**\n",
        "\n",
        "You can use the `os.path.exists()` function to check if a file exists before attempting to open it."
      ]
    },
    {
      "cell_type": "code",
      "metadata": {
        "colab": {
          "base_uri": "https://localhost:8080/"
        },
        "id": "22468cf7",
        "outputId": "6eaa551b-c46a-46eb-8234-15df79f00b34"
      },
      "source": [
        "# Example of checking if a file exists\n",
        "import os\n",
        "\n",
        "file_to_check = \"my_writing_file.txt\" # Using a file created earlier\n",
        "non_existent_file_to_check = \"another_non_existent_file.txt\"\n",
        "\n",
        "if os.path.exists(file_to_check):\n",
        "    print(f\"The file '{file_to_check}' exists.\")\n",
        "else:\n",
        "    print(f\"The file '{file_to_check}' does not exist.\")\n",
        "\n",
        "if os.path.exists(non_existent_file_to_check):\n",
        "    print(f\"The file '{non_existent_file_to_check}' exists.\")\n",
        "else:\n",
        "    print(f\"The file '{non_existent_file_to_check}' does not exist.\")"
      ],
      "execution_count": 13,
      "outputs": [
        {
          "output_type": "stream",
          "name": "stdout",
          "text": [
            "The file 'my_writing_file.txt' exists.\n",
            "The file 'another_non_existent_file.txt' does not exist.\n"
          ]
        }
      ]
    },
    {
      "cell_type": "markdown",
      "metadata": {
        "id": "bad5e3b0"
      },
      "source": [
        "## Practical question 14\n",
        "\n",
        "\n",
        "Write a program that uses the logging module to log both informational and error messages.\n",
        "\n",
        "**Answer:**\n",
        "\n",
        "You can configure the logging module to handle different levels and then use the appropriate logging methods (`logging.info()`, `logging.error()`)."
      ]
    },
    {
      "cell_type": "code",
      "metadata": {
        "colab": {
          "base_uri": "https://localhost:8080/"
        },
        "id": "4ef6df34",
        "outputId": "e429725f-6d65-4221-bc05-3af1f752b6dc"
      },
      "source": [
        "# Example of logging informational and error messages\n",
        "import logging\n",
        "\n",
        "logging.basicConfig(level=logging.INFO, format='%(asctime)s - %(levelname)s - %(message)s')\n",
        "\n",
        "logging.info(\"Program started.\")\n",
        "\n",
        "try:\n",
        "    result = 10 / 0\n",
        "except ZeroDivisionError:\n",
        "    logging.error(\"Attempted to divide by zero.\")\n",
        "\n",
        "logging.info(\"Program finished.\")"
      ],
      "execution_count": 14,
      "outputs": [
        {
          "output_type": "stream",
          "name": "stderr",
          "text": [
            "ERROR:root:Attempted to divide by zero.\n"
          ]
        }
      ]
    },
    {
      "cell_type": "markdown",
      "metadata": {
        "id": "b44bc267"
      },
      "source": [
        "## Practical question 15\n",
        "\n",
        "\n",
        "Write a Python program that prints the content of a file and handles the case when the file is empty.\n",
        "\n",
        "**Answer:**\n",
        "\n",
        "You can check if a file is empty after opening it by reading its content and checking if the resulting string is empty."
      ]
    },
    {
      "cell_type": "code",
      "metadata": {
        "colab": {
          "base_uri": "https://localhost:8080/"
        },
        "id": "d12b4a63",
        "outputId": "e3646532-9117-40fc-a35a-103f3b5271dd"
      },
      "source": [
        "# Example of handling an empty file\n",
        "empty_file_name = \"empty_file.txt\"\n",
        "\n",
        "# Create an empty file for demonstration\n",
        "with open(empty_file_name, 'w') as file:\n",
        "    pass # Create an empty file\n",
        "\n",
        "try:\n",
        "    with open(empty_file_name, 'r') as file:\n",
        "        content = file.read()\n",
        "        if not content:\n",
        "            print(f\"The file '{empty_file_name}' is empty.\")\n",
        "        else:\n",
        "            print(f\"Content of '{empty_file_name}':\")\n",
        "            print(content)\n",
        "except FileNotFoundError:\n",
        "    print(f\"Error: The file '{empty_file_name}' was not found.\")"
      ],
      "execution_count": 15,
      "outputs": [
        {
          "output_type": "stream",
          "name": "stdout",
          "text": [
            "The file 'empty_file.txt' is empty.\n"
          ]
        }
      ]
    },
    {
      "cell_type": "markdown",
      "metadata": {
        "id": "2df9ee77"
      },
      "source": [
        "## Practical question 16\n",
        "\n",
        "Demonstrate how to use memory profiling to check the memory usage of a small program.\n",
        "\n",
        "**Answer:**\n",
        "\n",
        "You can use the `memory_profiler` library to profile memory usage. You'll need to install it first (`!pip install memory_profiler`) and then use the `@profile` decorator on the function you want to profile."
      ]
    },
    {
      "cell_type": "code",
      "metadata": {
        "colab": {
          "base_uri": "https://localhost:8080/"
        },
        "id": "318480ab",
        "outputId": "6263955f-47c6-4311-9c96-b349c5b47f2a"
      },
      "source": [
        "# Example of using memory_profiler (requires installation: !pip install memory_profiler)\n",
        "# from memory_profiler import profile\n",
        "\n",
        "# @profile\n",
        "# def my_memory_intensive_function():\n",
        "#     a = [i for i in range(1000000)]\n",
        "#     b = [i for i in range(2000000)]\n",
        "#     del a\n",
        "#     return b\n",
        "\n",
        "# if __name__ == '__main__':\n",
        "#     my_memory_intensive_function()\n",
        "\n",
        "print(\"To run this example, you need to install 'memory_profiler' (`!pip install memory_profiler`) and uncomment the code.\")\n",
        "print(\"Then, run the cell and you will see memory usage information.\")"
      ],
      "execution_count": 16,
      "outputs": [
        {
          "output_type": "stream",
          "name": "stdout",
          "text": [
            "To run this example, you need to install 'memory_profiler' (`!pip install memory_profiler`) and uncomment the code.\n",
            "Then, run the cell and you will see memory usage information.\n"
          ]
        }
      ]
    },
    {
      "cell_type": "markdown",
      "metadata": {
        "id": "39007459"
      },
      "source": [
        "## Practical question 17\n",
        "\n",
        "\n",
        "Write a Python program to create and write a list of numbers to a file, one number per line.\n",
        "\n",
        "**Answer:**\n",
        "\n",
        "You can iterate over the list and write each number to the file, followed by a newline character."
      ]
    },
    {
      "cell_type": "code",
      "metadata": {
        "colab": {
          "base_uri": "https://localhost:8080/"
        },
        "id": "86f0b60a",
        "outputId": "f3b70c0f-5062-4777-9a6a-32180ba1f904"
      },
      "source": [
        "# Example of writing a list of numbers to a file\n",
        "numbers_list = [10, 20, 30, 40, 50]\n",
        "numbers_file = \"numbers_list.txt\"\n",
        "\n",
        "try:\n",
        "    with open(numbers_file, 'w') as file:\n",
        "        for number in numbers_list:\n",
        "            file.write(str(number) + \"\\n\") # Convert number to string and add newline\n",
        "\n",
        "    print(f\"List of numbers successfully written to '{numbers_file}'\")\n",
        "except IOError:\n",
        "    print(f\"Error: Could not write to the file '{numbers_file}'.\")"
      ],
      "execution_count": 17,
      "outputs": [
        {
          "output_type": "stream",
          "name": "stdout",
          "text": [
            "List of numbers successfully written to 'numbers_list.txt'\n"
          ]
        }
      ]
    },
    {
      "cell_type": "markdown",
      "metadata": {
        "id": "d082f706"
      },
      "source": [
        "## Practical question 18\n",
        "\n",
        "\n",
        "How would you implement a basic logging setup that logs to a file with rotation after IMB?\n",
        "\n",
        "**Answer:**\n",
        "\n",
        "You can use the `logging.handlers.RotatingFileHandler` to implement logging with file rotation based on size."
      ]
    },
    {
      "cell_type": "code",
      "metadata": {
        "colab": {
          "base_uri": "https://localhost:8080/"
        },
        "id": "2cc52ade",
        "outputId": "da9e7472-ffdf-4ada-d8eb-f114eaffb809"
      },
      "source": [
        "# Example of logging with file rotation (after 1MB)\n",
        "import logging\n",
        "from logging.handlers import RotatingFileHandler\n",
        "import os\n",
        "\n",
        "log_file_name = \"rotating_log.log\"\n",
        "max_bytes = 1024 * 1024  # 1 MB\n",
        "backup_count = 5 # Keep up to 5 backup files\n",
        "\n",
        "# Configure the rotating file handler\n",
        "handler = RotatingFileHandler(log_file_name, maxBytes=max_bytes, backupCount=backup_count)\n",
        "formatter = logging.Formatter('%(asctime)s - %(levelname)s - %(message)s')\n",
        "handler.setFormatter(formatter)\n",
        "\n",
        "# Get the root logger and add the handler\n",
        "logger = logging.getLogger('')\n",
        "logger.setLevel(logging.INFO)\n",
        "logger.addHandler(handler)\n",
        "\n",
        "logging.info(\"This is the first log message.\")\n",
        "logging.info(\"This is the second log message.\")\n",
        "\n",
        "# You would write more log messages to trigger rotation if the file size exceeds 1MB\n",
        "# For demonstration, we can just show the setup.\n",
        "print(f\"Logging configured to '{log_file_name}' with rotation at {max_bytes} bytes.\")"
      ],
      "execution_count": 18,
      "outputs": [
        {
          "output_type": "stream",
          "name": "stderr",
          "text": [
            "INFO:root:This is the first log message.\n",
            "INFO:root:This is the second log message.\n"
          ]
        },
        {
          "output_type": "stream",
          "name": "stdout",
          "text": [
            "Logging configured to 'rotating_log.log' with rotation at 1048576 bytes.\n"
          ]
        }
      ]
    },
    {
      "cell_type": "markdown",
      "metadata": {
        "id": "f1ea95e3"
      },
      "source": [
        "## Practical question 19\n",
        "Write a program that handles both IndexError and KeyError using a try-except block.\n",
        "\n",
        "**Answer:**\n",
        "\n",
        "You can include multiple exception types in a single `except` block by providing them as a tuple."
      ]
    },
    {
      "cell_type": "code",
      "metadata": {
        "colab": {
          "base_uri": "https://localhost:8080/"
        },
        "id": "c2c0c7a0",
        "outputId": "fd05ea73-da68-467a-ded8-076fd3d8b214"
      },
      "source": [
        "# Example of handling both IndexError and KeyError\n",
        "def access_data(data, key_or_index):\n",
        "    try:\n",
        "        if isinstance(data, list):\n",
        "            value = data[key_or_index]\n",
        "        elif isinstance(data, dict):\n",
        "            value = data[key_or_index]\n",
        "        else:\n",
        "            raise TypeError(\"Unsupported data type\")\n",
        "        print(f\"Accessed value: {value}\")\n",
        "    except (IndexError, KeyError):\n",
        "        print(f\"Error: Could not access data with key or index '{key_or_index}'.\")\n",
        "    except TypeError as e:\n",
        "        print(f\"Type Error: {e}\")\n",
        "\n",
        "\n",
        "my_list = [10, 20, 30]\n",
        "my_dict = {\"a\": 1, \"b\": 2}\n",
        "\n",
        "access_data(my_list, 1)      # Valid index\n",
        "access_data(my_list, 5)      # IndexError\n",
        "access_data(my_dict, \"a\")    # Valid key\n",
        "access_data(my_dict, \"c\")    # KeyError\n",
        "access_data(\"hello\", 0)      # TypeError"
      ],
      "execution_count": 19,
      "outputs": [
        {
          "output_type": "stream",
          "name": "stdout",
          "text": [
            "Accessed value: 20\n",
            "Error: Could not access data with key or index '5'.\n",
            "Accessed value: 1\n",
            "Error: Could not access data with key or index 'c'.\n",
            "Type Error: Unsupported data type\n"
          ]
        }
      ]
    },
    {
      "cell_type": "markdown",
      "metadata": {
        "id": "95b2d346"
      },
      "source": [
        "## Practical question 20\n",
        "\n",
        "How would you open a file and read its contents using a context manager in Python?\n",
        "\n",
        "**Answer:**\n",
        "\n",
        "You use the `with` statement with the `open()` function to open a file using a context manager. This ensures the file is automatically closed even if errors occur."
      ]
    },
    {
      "cell_type": "code",
      "metadata": {
        "colab": {
          "base_uri": "https://localhost:8080/"
        },
        "id": "77417c21",
        "outputId": "0565d7b1-e16e-4050-b52e-503cc24d2397"
      },
      "source": [
        "# Example of opening and reading a file using a context manager\n",
        "file_for_context = \"my_writing_file.txt\" # Using a file created earlier\n",
        "\n",
        "try:\n",
        "    with open(file_for_context, 'r') as file:\n",
        "        content = file.read()\n",
        "        print(f\"Content of '{file_for_context}' read using context manager:\")\n",
        "        print(content)\n",
        "except FileNotFoundError:\n",
        "    print(f\"Error: The file '{file_for_context}' was not found.\")"
      ],
      "execution_count": 20,
      "outputs": [
        {
          "output_type": "stream",
          "name": "stdout",
          "text": [
            "Content of 'my_writing_file.txt' read using context manager:\n",
            "Hello, this is a test.\n",
            "This is another line.\n"
          ]
        }
      ]
    },
    {
      "cell_type": "markdown",
      "metadata": {
        "id": "e91d45fd"
      },
      "source": [
        "## Practical question 21\n",
        "Write a Python program that reads a file and prints the number of occurrences of a specific word.\n",
        "\n",
        "**Answer:**\n",
        "\n",
        "You can read the file content, split it into words, and then count the occurrences of the specific word."
      ]
    },
    {
      "cell_type": "code",
      "metadata": {
        "colab": {
          "base_uri": "https://localhost:8080/"
        },
        "id": "7c40ec54",
        "outputId": "bbf157fb-b2c8-4f9c-aa93-0dfab5f5f6a6"
      },
      "source": [
        "# Example of counting word occurrences in a file\n",
        "word_to_count = \"this\"\n",
        "file_to_search = \"my_writing_file.txt\" # Using a file created earlier\n",
        "word_count = 0\n",
        "\n",
        "try:\n",
        "    with open(file_to_search, 'r') as file:\n",
        "        content = file.read().lower() # Read content and convert to lowercase\n",
        "        words = content.split() # Split into words\n",
        "\n",
        "        for word in words:\n",
        "            # Remove punctuation from words before comparison (optional but good practice)\n",
        "            cleaned_word = ''.join(filter(str.isalnum, word))\n",
        "            if cleaned_word == word_to_count.lower():\n",
        "                word_count += 1\n",
        "\n",
        "    print(f\"The word '{word_to_count}' appears {word_count} times in '{file_to_search}'.\")\n",
        "\n",
        "except FileNotFoundError:\n",
        "    print(f\"Error: The file '{file_to_search}' was not found.\")"
      ],
      "execution_count": 21,
      "outputs": [
        {
          "output_type": "stream",
          "name": "stdout",
          "text": [
            "The word 'this' appears 2 times in 'my_writing_file.txt'.\n"
          ]
        }
      ]
    },
    {
      "cell_type": "markdown",
      "metadata": {
        "id": "f8eaa5b2"
      },
      "source": [
        "## Practical question 22\n",
        "\n",
        "How can you check if a file is empty before attempting to read its contents?\n",
        "\n",
        "**Answer:**\n",
        "\n",
        "You can use the `os.path.getsize()` function to check the size of the file in bytes. If the size is 0, the file is empty."
      ]
    },
    {
      "cell_type": "code",
      "metadata": {
        "colab": {
          "base_uri": "https://localhost:8080/"
        },
        "id": "f17f891e",
        "outputId": "ef33b6c7-7573-4d2a-9ffc-438589103091"
      },
      "source": [
        "# Example of checking if a file is empty\n",
        "import os\n",
        "\n",
        "file_to_check_empty = \"empty_file.txt\" # Using the empty file created earlier\n",
        "file_to_check_not_empty = \"my_writing_file.txt\" # Using a file created earlier\n",
        "\n",
        "if os.path.exists(file_to_check_empty):\n",
        "    if os.path.getsize(file_to_check_empty) == 0:\n",
        "        print(f\"The file '{file_to_check_empty}' is empty.\")\n",
        "    else:\n",
        "        print(f\"The file '{file_to_check_empty}' is not empty.\")\n",
        "else:\n",
        "    print(f\"The file '{file_to_check_empty}' does not exist.\")\n",
        "\n",
        "if os.path.exists(file_to_check_not_empty):\n",
        "    if os.path.getsize(file_to_check_not_empty) == 0:\n",
        "        print(f\"The file '{file_to_check_not_empty}' is empty.\")\n",
        "    else:\n",
        "        print(f\"The file '{file_to_check_not_empty}' is not empty.\")\n",
        "else:\n",
        "    print(f\"The file '{file_to_check_not_empty}' does not exist.\")"
      ],
      "execution_count": 22,
      "outputs": [
        {
          "output_type": "stream",
          "name": "stdout",
          "text": [
            "The file 'empty_file.txt' is empty.\n",
            "The file 'my_writing_file.txt' is not empty.\n"
          ]
        }
      ]
    },
    {
      "cell_type": "markdown",
      "metadata": {
        "id": "c69e1692"
      },
      "source": [
        "## Practical question 23\n",
        "\n",
        "Write a Python program that writes to a log file when an error occurs during file handling.\n",
        "\n",
        "**Answer:**\n",
        "\n",
        "You can combine file handling with logging within a `try...except` block to log errors that occur during file operations."
      ]
    },
    {
      "cell_type": "code",
      "metadata": {
        "colab": {
          "base_uri": "https://localhost:8080/"
        },
        "id": "c00735c2",
        "outputId": "a577c4e1-0a00-41f4-d510-98e5799dffb5"
      },
      "source": [
        "# Example of logging file handling errors\n",
        "import logging\n",
        "\n",
        "logging.basicConfig(filename='file_errors.log', level=logging.ERROR, format='%(asctime)s - %(levelname)s - %(message)s')\n",
        "\n",
        "file_to_handle = \"non_existent_file_for_logging.txt\"\n",
        "\n",
        "try:\n",
        "    with open(file_to_handle, 'r') as file:\n",
        "        content = file.read()\n",
        "        print(content)\n",
        "except FileNotFoundError:\n",
        "    logging.error(f\"FileNotFoundError: Could not open the file '{file_to_handle}'.\")\n",
        "    print(f\"Error: The file '{file_to_handle}' was not found. Error logged.\")\n",
        "except IOError as e:\n",
        "    logging.error(f\"IOError: An I/O error occurred while handling '{file_to_handle}': {e}\")\n",
        "    print(f\"Error: An I/O error occurred while handling '{file_to_handle}'. Error logged.\")"
      ],
      "execution_count": 23,
      "outputs": [
        {
          "output_type": "stream",
          "name": "stderr",
          "text": [
            "ERROR:root:FileNotFoundError: Could not open the file 'non_existent_file_for_logging.txt'.\n"
          ]
        },
        {
          "output_type": "stream",
          "name": "stdout",
          "text": [
            "Error: The file 'non_existent_file_for_logging.txt' was not found. Error logged.\n"
          ]
        }
      ]
    }
  ]
}